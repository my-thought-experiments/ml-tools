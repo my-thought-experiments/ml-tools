{
 "cells": [
  {
   "cell_type": "markdown",
   "metadata": {},
   "source": [
    "# Data Cleaning\n",
    "\n",
    "\n",
    "In real world, data are rarely clean and homogeneous. Thus we need to pre-process the data by filling missing values because making the right decision on how to handle it generates robust data models.\n",
    "\n",
    "It is important to be handled as they could lead to wrong prediction or classification for any given model being used.\n",
    "\n",
    "In general, missing values could be Nan, empty string, ?, -1, -99, and so on. In order to understand if -1 is a missing value or not we could draw a histogram. If this variable has a uniform distribution between 0 and 1 and it has a small peak at -1 then -1 is actually a missing value."
   ]
  },
  {
   "cell_type": "code",
   "execution_count": 160,
   "metadata": {},
   "outputs": [
    {
     "name": "stdout",
     "output_type": "stream",
     "text": [
      "<class 'pandas.core.frame.DataFrame'>\n",
      "RangeIndex: 891 entries, 0 to 890\n",
      "Data columns (total 12 columns):\n",
      "PassengerId    891 non-null int64\n",
      "Survived       891 non-null int64\n",
      "Pclass         891 non-null int64\n",
      "Name           891 non-null object\n",
      "Sex            891 non-null object\n",
      "Age            714 non-null float64\n",
      "SibSp          891 non-null int64\n",
      "Parch          891 non-null int64\n",
      "Ticket         891 non-null object\n",
      "Fare           891 non-null float64\n",
      "Cabin          204 non-null object\n",
      "Embarked       889 non-null object\n",
      "dtypes: float64(2), int64(5), object(5)\n",
      "memory usage: 83.7+ KB\n"
     ]
    }
   ],
   "source": [
    "import numpy as np\n",
    "import pandas as pd\n",
    "import seaborn as sns\n",
    "import matplotlib.pyplot as plt\n",
    "%matplotlib inline\n",
    "\n",
    "df = pd.read_csv('../datasets/titanic.csv')\n",
    "\n",
    "\"\"\"\n",
    "Its easy to understand features like ‘Age’, ‘Cabin’ and ‘Embarked’ contains missing values.\n",
    "\"\"\"\n",
    "df.info()"
   ]
  },
  {
   "cell_type": "code",
   "execution_count": 161,
   "metadata": {},
   "outputs": [
    {
     "data": {
      "text/html": [
       "<div>\n",
       "<style scoped>\n",
       "    .dataframe tbody tr th:only-of-type {\n",
       "        vertical-align: middle;\n",
       "    }\n",
       "\n",
       "    .dataframe tbody tr th {\n",
       "        vertical-align: top;\n",
       "    }\n",
       "\n",
       "    .dataframe thead th {\n",
       "        text-align: right;\n",
       "    }\n",
       "</style>\n",
       "<table border=\"1\" class=\"dataframe\">\n",
       "  <thead>\n",
       "    <tr style=\"text-align: right;\">\n",
       "      <th></th>\n",
       "      <th>Total</th>\n",
       "      <th>Percent</th>\n",
       "    </tr>\n",
       "  </thead>\n",
       "  <tbody>\n",
       "    <tr>\n",
       "      <td>Cabin</td>\n",
       "      <td>687</td>\n",
       "      <td>0.771044</td>\n",
       "    </tr>\n",
       "    <tr>\n",
       "      <td>Age</td>\n",
       "      <td>177</td>\n",
       "      <td>0.198653</td>\n",
       "    </tr>\n",
       "    <tr>\n",
       "      <td>Embarked</td>\n",
       "      <td>2</td>\n",
       "      <td>0.002245</td>\n",
       "    </tr>\n",
       "    <tr>\n",
       "      <td>Fare</td>\n",
       "      <td>0</td>\n",
       "      <td>0.000000</td>\n",
       "    </tr>\n",
       "    <tr>\n",
       "      <td>Ticket</td>\n",
       "      <td>0</td>\n",
       "      <td>0.000000</td>\n",
       "    </tr>\n",
       "    <tr>\n",
       "      <td>Parch</td>\n",
       "      <td>0</td>\n",
       "      <td>0.000000</td>\n",
       "    </tr>\n",
       "    <tr>\n",
       "      <td>SibSp</td>\n",
       "      <td>0</td>\n",
       "      <td>0.000000</td>\n",
       "    </tr>\n",
       "    <tr>\n",
       "      <td>Sex</td>\n",
       "      <td>0</td>\n",
       "      <td>0.000000</td>\n",
       "    </tr>\n",
       "    <tr>\n",
       "      <td>Name</td>\n",
       "      <td>0</td>\n",
       "      <td>0.000000</td>\n",
       "    </tr>\n",
       "    <tr>\n",
       "      <td>Pclass</td>\n",
       "      <td>0</td>\n",
       "      <td>0.000000</td>\n",
       "    </tr>\n",
       "    <tr>\n",
       "      <td>Survived</td>\n",
       "      <td>0</td>\n",
       "      <td>0.000000</td>\n",
       "    </tr>\n",
       "    <tr>\n",
       "      <td>PassengerId</td>\n",
       "      <td>0</td>\n",
       "      <td>0.000000</td>\n",
       "    </tr>\n",
       "  </tbody>\n",
       "</table>\n",
       "</div>"
      ],
      "text/plain": [
       "             Total   Percent\n",
       "Cabin          687  0.771044\n",
       "Age            177  0.198653\n",
       "Embarked         2  0.002245\n",
       "Fare             0  0.000000\n",
       "Ticket           0  0.000000\n",
       "Parch            0  0.000000\n",
       "SibSp            0  0.000000\n",
       "Sex              0  0.000000\n",
       "Name             0  0.000000\n",
       "Pclass           0  0.000000\n",
       "Survived         0  0.000000\n",
       "PassengerId      0  0.000000"
      ]
     },
     "execution_count": 161,
     "metadata": {},
     "output_type": "execute_result"
    }
   ],
   "source": [
    "\"\"\"\n",
    "Bothing empty/blank-space and `NA` are considered as missing values.\n",
    "`isnull` will response as True for missing values and\n",
    "`sum()` will give us the total missing values count for each of the features.\n",
    "\"\"\"\n",
    "total = df.isnull().sum().sort_values(ascending=False)\n",
    "\n",
    "\"\"\"\n",
    "Calculate the percent of missing values\n",
    "\"\"\"\n",
    "percent = (df.isnull().sum() / df.isnull().count()).sort_values(ascending=False)\n",
    "\n",
    "\"\"\"\n",
    "Display count and percent of missing values as data frame.\n",
    "\"\"\"\n",
    "missing_data = pd.concat([total, percent], axis=1, keys=[\"Total\", \"Percent\"])\n",
    "missing_data"
   ]
  },
  {
   "cell_type": "code",
   "execution_count": 162,
   "metadata": {},
   "outputs": [
    {
     "data": {
      "text/plain": [
       "<matplotlib.axes._subplots.AxesSubplot at 0x7ff1f8a6ae10>"
      ]
     },
     "execution_count": 162,
     "metadata": {},
     "output_type": "execute_result"
    },
    {
     "data": {
      "image/png": "[encoded data removed]",
      "text/plain": [
       "<Figure size 1080x432 with 1 Axes>"
      ]
     },
     "metadata": {
      "needs_background": "light"
     },
     "output_type": "display_data"
    }
   ],
   "source": [
    "\"\"\"\n",
    "Represent missing data in form of graph\n",
    "\"\"\"\n",
    "fig, ax = plt.subplots(figsize=(15, 6))\n",
    "plt.xlabel(\"Features\", fontsize=15)\n",
    "plt.ylabel(\"Percent\", fontsize=15)\n",
    "plt.title(\"Percent of missing data by features\")\n",
    "sns.set(style=\"whitegrid\")\n",
    "sns.barplot(x=missing_data.index, y=missing_data[\"Percent\"])"
   ]
  },
  {
   "cell_type": "markdown",
   "metadata": {},
   "source": [
    "Most algorithm don't accept missing values, so we must handle them in some way and we con't simply ignore missing values in a dataset.\n",
    "\n",
    "Here are some of the technique to handle missing values:\n",
    "\n",
    "1. Deleting Data\n",
    "2. Back-fill and Forward-fill\n",
    "3. Replace with constant value\n",
    "4. Replace with Mean/Median/Mode\n",
    "5. Assigning an unique categories"
   ]
  },
  {
   "cell_type": "markdown",
   "metadata": {},
   "source": [
    "### 1. Deleting Data\n",
    "\n",
    "* This method is the most commonly used to handle the null values.\n",
    "* We can either delete a particular record which has null value for a particular feature or a particular feature if it has more than 70-75% of missing values.\n",
    "* This method is advised only when there are enough samples in the data set.\n",
    "\n",
    "Notes:\n",
    "\n",
    "* One has to make sure that after we have deleted the data, there is no addition of bias.\n",
    "* Removing the data will lead to loss of information which will not give the expected results while predicting the output. Imagine we drop one whole observation just because one of the features had a missing value, even if the rest of the features are perfectly filled and informative!\n"
   ]
  },
  {
   "cell_type": "code",
   "execution_count": 163,
   "metadata": {},
   "outputs": [
    {
     "name": "stdout",
     "output_type": "stream",
     "text": [
      "(891, 12)\n",
      "(183, 12)\n"
     ]
    },
    {
     "data": {
      "text/plain": [
       "PassengerId    0\n",
       "Survived       0\n",
       "Pclass         0\n",
       "Name           0\n",
       "Sex            0\n",
       "Age            0\n",
       "SibSp          0\n",
       "Parch          0\n",
       "Ticket         0\n",
       "Fare           0\n",
       "Cabin          0\n",
       "Embarked       0\n",
       "dtype: int64"
      ]
     },
     "execution_count": 163,
     "metadata": {},
     "output_type": "execute_result"
    }
   ],
   "source": [
    "dataset = df.copy(deep=True)\n",
    "print(dataset.shape)\n",
    "\n",
    "\"\"\"\n",
    "Drop all features with missing values\n",
    "\"\"\"\n",
    "dataset.dropna(inplace=True)\n",
    "\n",
    "\"\"\"\n",
    "Drop the rows only if all the values in the row are missing\n",
    "\"\"\"\n",
    "# dataset.dropna(how=\"all\", inplace=True)\n",
    "\n",
    "\"\"\"\n",
    "Just drop a feature that has some missing values\n",
    "\"\"\"\n",
    "# dataset.dropna(axis=1, inplace=True)\n",
    "\n",
    "\"\"\"\n",
    "Keep all the rows with at least 3 non-na values\n",
    "\"\"\"\n",
    "# dataset.dropna(thresh=3, inplace=True)\n",
    "\n",
    "print(dataset.shape)\n",
    "dataset.isnull().sum()"
   ]
  },
  {
   "cell_type": "markdown",
   "metadata": {},
   "source": [
    "Notes:\n",
    "\n",
    "* It is always better to keep data than to delete them.\n",
    "* The only case that it may worth deleting a variable is when it s missing values are more than 60% of the observations but only if that variable is insignificant.\n",
    "* Taking this into consideration, imputation is always a preferred choice over deleting variable.\n",
    "\n",
    "Pros:\n",
    "\n",
    "* Complete removal of data with missing values results in robust and highly accurate model\n",
    "* Deleting a particular row or a column with no specific information is better, since it does not have a high weightage\n",
    "\n",
    "Cons:\n",
    "* Loss of information and data\n",
    "* Works poorly if the percentage of missing values is high (say 30%), compared to the whole dataset\n",
    "\n",
    "### 2. Back-fill and Forward-fill\n",
    "\n",
    "Gaps in data like NaN values can be filled by propagating the non-NaN values forward or backward filling.\n",
    "\n",
    "Notes:\n",
    "\n",
    "* NaN value will remain even after forward filling or back filling if a next or previous value isn’t available or it is also a NaN value."
   ]
  },
  {
   "cell_type": "code",
   "execution_count": 164,
   "metadata": {},
   "outputs": [
    {
     "name": "stdout",
     "output_type": "stream",
     "text": [
      "   PassengerId  Survived  Pclass  \\\n",
      "0            1         0       3   \n",
      "1            2         1       1   \n",
      "2            3         1       3   \n",
      "3            4         1       1   \n",
      "4            5         0       3   \n",
      "5            6         0       3   \n",
      "6            7         0       1   \n",
      "7            8         0       3   \n",
      "8            9         1       3   \n",
      "9           10         1       2   \n",
      "\n",
      "                                                Name     Sex   Age  SibSp  \\\n",
      "0                            Braund, Mr. Owen Harris    male  22.0      1   \n",
      "1  Cumings, Mrs. John Bradley (Florence Briggs Th...  female  38.0      1   \n",
      "2                             Heikkinen, Miss. Laina  female  26.0      0   \n",
      "3       Futrelle, Mrs. Jacques Heath (Lily May Peel)  female  35.0      1   \n",
      "4                           Allen, Mr. William Henry    male  35.0      0   \n",
      "5                                   Moran, Mr. James    male   NaN      0   \n",
      "6                            McCarthy, Mr. Timothy J    male  54.0      0   \n",
      "7                     Palsson, Master. Gosta Leonard    male   2.0      3   \n",
      "8  Johnson, Mrs. Oscar W (Elisabeth Vilhelmina Berg)  female  27.0      0   \n",
      "9                Nasser, Mrs. Nicholas (Adele Achem)  female  14.0      1   \n",
      "\n",
      "   Parch            Ticket     Fare Cabin Embarked  \n",
      "0      0         A/5 21171   7.2500   NaN        S  \n",
      "1      0          PC 17599  71.2833   C85        C  \n",
      "2      0  STON/O2. 3101282   7.9250   NaN        S  \n",
      "3      0            113803  53.1000  C123        S  \n",
      "4      0            373450   8.0500   NaN        S  \n",
      "5      0            330877   8.4583   NaN        Q  \n",
      "6      0             17463  51.8625   E46        S  \n",
      "7      1            349909  21.0750   NaN        S  \n",
      "8      2            347742  11.1333   NaN        S  \n",
      "9      0            237736  30.0708   NaN        C  \n",
      "   PassengerId  Survived  Pclass  \\\n",
      "0            1         0       3   \n",
      "1            2         1       1   \n",
      "2            3         1       3   \n",
      "3            4         1       1   \n",
      "4            5         0       3   \n",
      "5            6         0       3   \n",
      "6            7         0       1   \n",
      "7            8         0       3   \n",
      "8            9         1       3   \n",
      "9           10         1       2   \n",
      "\n",
      "                                                Name     Sex   Age  SibSp  \\\n",
      "0                            Braund, Mr. Owen Harris    male  22.0      1   \n",
      "1  Cumings, Mrs. John Bradley (Florence Briggs Th...  female  38.0      1   \n",
      "2                             Heikkinen, Miss. Laina  female  26.0      0   \n",
      "3       Futrelle, Mrs. Jacques Heath (Lily May Peel)  female  35.0      1   \n",
      "4                           Allen, Mr. William Henry    male  35.0      0   \n",
      "5                                   Moran, Mr. James    male  35.0      0   \n",
      "6                            McCarthy, Mr. Timothy J    male  54.0      0   \n",
      "7                     Palsson, Master. Gosta Leonard    male   2.0      3   \n",
      "8  Johnson, Mrs. Oscar W (Elisabeth Vilhelmina Berg)  female  27.0      0   \n",
      "9                Nasser, Mrs. Nicholas (Adele Achem)  female  14.0      1   \n",
      "\n",
      "   Parch            Ticket     Fare Cabin Embarked  \n",
      "0      0         A/5 21171   7.2500   C85        S  \n",
      "1      0          PC 17599  71.2833   C85        C  \n",
      "2      0  STON/O2. 3101282   7.9250   C85        S  \n",
      "3      0            113803  53.1000  C123        S  \n",
      "4      0            373450   8.0500  C123        S  \n",
      "5      0            330877   8.4583  C123        Q  \n",
      "6      0             17463  51.8625   E46        S  \n",
      "7      1            349909  21.0750   E46        S  \n",
      "8      2            347742  11.1333   E46        S  \n",
      "9      0            237736  30.0708   E46        C  \n"
     ]
    }
   ],
   "source": [
    "dataset = df.copy(deep=True)\n",
    "print(dataset.head(10))\n",
    "\n",
    "\"\"\"\n",
    "Apply forward and back filling\n",
    "\"\"\"\n",
    "dataset.fillna(method=\"ffill\", inplace=True)\n",
    "dataset.fillna(method=\"bfill\", inplace=True)\n",
    "print(dataset.head(10))"
   ]
  },
  {
   "cell_type": "markdown",
   "metadata": {},
   "source": [
    "### 3. Replace with constant value\n",
    "\n",
    "* Replace the missing value with some constant value outside fixed value range-999,-1 etc.\n",
    "* This method is useful as it gives the possibility to group missing values as a separate category represented by a constant value."
   ]
  },
  {
   "cell_type": "code",
   "execution_count": 165,
   "metadata": {},
   "outputs": [
    {
     "name": "stdout",
     "output_type": "stream",
     "text": [
      "   PassengerId  Survived  Pclass  \\\n",
      "0            1         0       3   \n",
      "1            2         1       1   \n",
      "2            3         1       3   \n",
      "3            4         1       1   \n",
      "4            5         0       3   \n",
      "5            6         0       3   \n",
      "6            7         0       1   \n",
      "7            8         0       3   \n",
      "8            9         1       3   \n",
      "9           10         1       2   \n",
      "\n",
      "                                                Name     Sex   Age  SibSp  \\\n",
      "0                            Braund, Mr. Owen Harris    male  22.0      1   \n",
      "1  Cumings, Mrs. John Bradley (Florence Briggs Th...  female  38.0      1   \n",
      "2                             Heikkinen, Miss. Laina  female  26.0      0   \n",
      "3       Futrelle, Mrs. Jacques Heath (Lily May Peel)  female  35.0      1   \n",
      "4                           Allen, Mr. William Henry    male  35.0      0   \n",
      "5                                   Moran, Mr. James    male   NaN      0   \n",
      "6                            McCarthy, Mr. Timothy J    male  54.0      0   \n",
      "7                     Palsson, Master. Gosta Leonard    male   2.0      3   \n",
      "8  Johnson, Mrs. Oscar W (Elisabeth Vilhelmina Berg)  female  27.0      0   \n",
      "9                Nasser, Mrs. Nicholas (Adele Achem)  female  14.0      1   \n",
      "\n",
      "   Parch            Ticket     Fare Cabin Embarked  \n",
      "0      0         A/5 21171   7.2500   NaN        S  \n",
      "1      0          PC 17599  71.2833   C85        C  \n",
      "2      0  STON/O2. 3101282   7.9250   NaN        S  \n",
      "3      0            113803  53.1000  C123        S  \n",
      "4      0            373450   8.0500   NaN        S  \n",
      "5      0            330877   8.4583   NaN        Q  \n",
      "6      0             17463  51.8625   E46        S  \n",
      "7      1            349909  21.0750   NaN        S  \n",
      "8      2            347742  11.1333   NaN        S  \n",
      "9      0            237736  30.0708   NaN        C  \n",
      "   PassengerId  Survived  Pclass  \\\n",
      "0            1         0       3   \n",
      "1            2         1       1   \n",
      "2            3         1       3   \n",
      "3            4         1       1   \n",
      "4            5         0       3   \n",
      "5            6         0       3   \n",
      "6            7         0       1   \n",
      "7            8         0       3   \n",
      "8            9         1       3   \n",
      "9           10         1       2   \n",
      "\n",
      "                                                Name     Sex   Age  SibSp  \\\n",
      "0                            Braund, Mr. Owen Harris    male  22.0      1   \n",
      "1  Cumings, Mrs. John Bradley (Florence Briggs Th...  female  38.0      1   \n",
      "2                             Heikkinen, Miss. Laina  female  26.0      0   \n",
      "3       Futrelle, Mrs. Jacques Heath (Lily May Peel)  female  35.0      1   \n",
      "4                           Allen, Mr. William Henry    male  35.0      0   \n",
      "5                                   Moran, Mr. James    male -99.0      0   \n",
      "6                            McCarthy, Mr. Timothy J    male  54.0      0   \n",
      "7                     Palsson, Master. Gosta Leonard    male   2.0      3   \n",
      "8  Johnson, Mrs. Oscar W (Elisabeth Vilhelmina Berg)  female  27.0      0   \n",
      "9                Nasser, Mrs. Nicholas (Adele Achem)  female  14.0      1   \n",
      "\n",
      "   Parch            Ticket     Fare Cabin Embarked  \n",
      "0      0         A/5 21171   7.2500   -99        S  \n",
      "1      0          PC 17599  71.2833   C85        C  \n",
      "2      0  STON/O2. 3101282   7.9250   -99        S  \n",
      "3      0            113803  53.1000  C123        S  \n",
      "4      0            373450   8.0500   -99        S  \n",
      "5      0            330877   8.4583   -99        Q  \n",
      "6      0             17463  51.8625   E46        S  \n",
      "7      1            349909  21.0750   -99        S  \n",
      "8      2            347742  11.1333   -99        S  \n",
      "9      0            237736  30.0708   -99        C  \n"
     ]
    }
   ],
   "source": [
    "dataset = df.copy(deep=True)\n",
    "print(dataset.head(10))\n",
    "\n",
    "dataset.fillna(-99, inplace=True)\n",
    "print(dataset.head(10))"
   ]
  },
  {
   "cell_type": "markdown",
   "metadata": {},
   "source": [
    "### 4. Replace with Mean/Medium/Mode\n",
    "\n",
    "* This approach can be applied on a feature which has numeric data like age, ticket fare etc.\n",
    "* This method could yield better results compared to removal of rows and columns.\n",
    "* This method is a statistical approach of handling the missing values and is also called as `Leaking the data while training`.\n",
    "\n",
    "Notes:\n",
    "\n",
    "* Mean: Suitable for continuous data without outliers.\n",
    "* Median: Suitable for continuous data with outliers.\n",
    "* Mode: Suitable for categorial features.\n",
    "\n",
    "Pros:\n",
    "\n",
    "* This is a better approach when the data size is small\n",
    "* It can prevent data loss which results in removal of the rows and columns\n",
    "\n",
    "Cors:\n",
    "\n",
    "* Imputing the approximations add variance and bias\n",
    "* Works poorly compared to other multiple-imputations method"
   ]
  },
  {
   "cell_type": "code",
   "execution_count": 166,
   "metadata": {},
   "outputs": [
    {
     "name": "stdout",
     "output_type": "stream",
     "text": [
      "0    22.0\n",
      "1    38.0\n",
      "2    26.0\n",
      "3    35.0\n",
      "4    35.0\n",
      "5     NaN\n",
      "6    54.0\n",
      "7     2.0\n",
      "8    27.0\n",
      "9    14.0\n",
      "Name: Age, dtype: float64\n",
      "177\n",
      "29.69911764705882\n",
      "0\n",
      "0    22.000000\n",
      "1    38.000000\n",
      "2    26.000000\n",
      "3    35.000000\n",
      "4    35.000000\n",
      "5    29.699118\n",
      "6    54.000000\n",
      "7     2.000000\n",
      "8    27.000000\n",
      "9    14.000000\n",
      "Name: Age, dtype: float64\n"
     ]
    }
   ],
   "source": [
    "\"\"\"\n",
    "Mean approach\n",
    "\"\"\"\n",
    "dataset = df.copy(deep=True)\n",
    "print(dataset[\"Age\"].head(10))\n",
    "\n",
    "print(dataset[\"Age\"].isnull().sum())\n",
    "\n",
    "mean_value = dataset[\"Age\"].mean()\n",
    "print(mean_value)\n",
    "\n",
    "dataset[\"Age\"] = dataset[\"Age\"].replace(np.NaN, mean_value)\n",
    "print(dataset[\"Age\"].isnull().sum())\n",
    "print(dataset[\"Age\"].head(10))"
   ]
  },
  {
   "cell_type": "code",
   "execution_count": 167,
   "metadata": {},
   "outputs": [
    {
     "name": "stdout",
     "output_type": "stream",
     "text": [
      "0    22.0\n",
      "1    38.0\n",
      "2    26.0\n",
      "3    35.0\n",
      "4    35.0\n",
      "5     NaN\n",
      "6    54.0\n",
      "7     2.0\n",
      "8    27.0\n",
      "9    14.0\n",
      "Name: Age, dtype: float64\n",
      "177\n",
      "28.0\n",
      "0\n",
      "0    22.0\n",
      "1    38.0\n",
      "2    26.0\n",
      "3    35.0\n",
      "4    35.0\n",
      "5    28.0\n",
      "6    54.0\n",
      "7     2.0\n",
      "8    27.0\n",
      "9    14.0\n",
      "Name: Age, dtype: float64\n"
     ]
    }
   ],
   "source": [
    "\"\"\"\n",
    "Median approach\n",
    "\"\"\"\n",
    "dataset = df.copy(deep=True)\n",
    "print(dataset[\"Age\"].head(10))\n",
    "\n",
    "print(dataset[\"Age\"].isnull().sum())\n",
    "\n",
    "median_value = dataset[\"Age\"].median()\n",
    "print(median_value)\n",
    "\n",
    "dataset[\"Age\"] = dataset[\"Age\"].replace(np.NaN, median_value)\n",
    "print(dataset[\"Age\"].isnull().sum())\n",
    "print(dataset[\"Age\"].head(10))"
   ]
  },
  {
   "cell_type": "code",
   "execution_count": 169,
   "metadata": {},
   "outputs": [
    {
     "name": "stdout",
     "output_type": "stream",
     "text": [
      "2\n",
      "0    S\n",
      "dtype: object\n",
      "2\n"
     ]
    }
   ],
   "source": [
    "\"\"\"\n",
    "Mode approach\n",
    "\"\"\"\n",
    "dataset = df.copy(deep=True)\n",
    "\n",
    "print(dataset[\"Embarked\"].isnull().sum())\n",
    "\n",
    "mode_value = dataset[\"Embarked\"].mode()\n",
    "print(mode_value)\n",
    "\n",
    "dataset[\"Embarked\"] = dataset[\"Embarked\"].replace(np.NaN, mode_value)\n",
    "print(dataset[\"Embarked\"].isnull().sum())"
   ]
  },
  {
   "cell_type": "markdown",
   "metadata": {},
   "source": [
    "### 5. Assigning an unique category\n",
    "\n",
    "* A categorical feature will have a definite number of possibilities, like cabin, embarked etc. Since they have a definite number of classes, we can assign another class for the missing values.\n",
    "\n",
    "* Here, the features Cabin and Embarked have missing values which can be replaced with a new category, say, U for `unknown`. This strategy will add more information into the dataset which will result in the change of variance. Since they are categorical, we need to find one hot encoding to convert it to a numeric form for the algorithm to understand it.\n",
    "\n",
    "Pros:\n",
    "\n",
    "* Less possibilities with one extra category, resulting in low variance after one hot encoding — since it is categorical\n",
    "* Negates the loss of data by adding an unique category\n",
    "\n",
    "Cons:\n",
    "\n",
    "* Adds less variance\n",
    "* Adds another feature to the model while encoding, which may result in poor performance"
   ]
  },
  {
   "cell_type": "code",
   "execution_count": 171,
   "metadata": {},
   "outputs": [
    {
     "name": "stdout",
     "output_type": "stream",
     "text": [
      "687\n",
      "0\n"
     ]
    }
   ],
   "source": [
    "dataset = df.copy(deep=True)\n",
    "print(dataset[\"Cabin\"].isnull().sum())\n",
    "\n",
    "dataset[\"Cabin\"] = dataset[\"Cabin\"].fillna(\"U\")\n",
    "print(dataset[\"Cabin\"].isnull().sum())"
   ]
  },
  {
   "cell_type": "code",
   "execution_count": null,
   "metadata": {},
   "outputs": [],
   "source": []
  }
 ],
 "metadata": {
  "kernelspec": {
   "display_name": "Python 3",
   "language": "python",
   "name": "python3"
  },
  "language_info": {
   "codemirror_mode": {
    "name": "ipython",
    "version": 3
   },
   "file_extension": ".py",
   "mimetype": "text/x-python",
   "name": "python",
   "nbconvert_exporter": "python",
   "pygments_lexer": "ipython3",
   "version": "3.7.4"
  }
 },
 "nbformat": 4,
 "nbformat_minor": 2
}
